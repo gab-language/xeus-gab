{
 "cells": [
  {
   "cell_type": "markdown",
   "metadata": {},
   "source": [
    "<center>\n",
    "    <h1>gab kernel based on xeus</h1>\n",
    "</center>"
   ]
  },
  {
   "cell_type": "markdown",
   "metadata": {},
   "source": [
    "# Simple code execution"
   ]
  },
  {
   "cell_type": "code",
   "execution_count": null,
   "metadata": {},
   "outputs": [],
   "source": [
    "a = 3"
   ]
  }
 ],
 "metadata": {
  "kernelspec": {
   "display_name": "Gab 0.0.3 (xgab)",
   "language": "text/x-gab",
   "name": "xgab"
  },
  "language_info": {
   "file_extension": "gab",
   "mimetype": "text/x-gab",
   "name": "xgab",
   "version": "0.0.3"
  }
 },
 "nbformat": 4,
 "nbformat_minor": 4
}
